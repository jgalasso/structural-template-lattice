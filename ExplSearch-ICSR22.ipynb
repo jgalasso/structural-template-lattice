{
 "cells": [
  {
   "cell_type": "markdown",
   "id": "ed1e88e4-160d-4abf-8fba-7802d8f42003",
   "metadata": {},
   "source": [
    "# Analysis of the Pattern Concept Lattice of Code Templates\n",
    "\n",
    "\n"
   ]
  },
  {
   "cell_type": "code",
   "execution_count": 1,
   "id": "c7f1d537-a4c8-4507-a5bf-775ba2a9e0b7",
   "metadata": {},
   "outputs": [],
   "source": [
    "import json\n",
    "import networkx as nx\n",
    "import ipywidgets as widgets\n",
    "from IPython.display import display"
   ]
  },
  {
   "cell_type": "markdown",
   "id": "d316f734-5b48-4811-ac86-87d32e473ef5",
   "metadata": {},
   "source": [
    "## Loading the lattice\n",
    "Loading the content of the json file representing the concepts and their relations."
   ]
  },
  {
   "cell_type": "code",
   "execution_count": 2,
   "id": "411eb848-b3e9-4da7-9521-43ff36362b35",
   "metadata": {},
   "outputs": [],
   "source": [
    "filepath = './template-lattice_small.json'\n",
    "with open(filepath, 'r') as jsonfile:\n",
    "    lattice = json.loads(jsonfile.read())\n",
    "jsonfile.close()"
   ]
  },
  {
   "cell_type": "markdown",
   "id": "aca9bef7-9d46-4cfd-950c-c4b189ace605",
   "metadata": {},
   "source": [
    "## Create a digraph\n",
    "Put the content of the json in a networkx digraph to perform some graph operations.  \n",
    "The digraph is transitively closed."
   ]
  },
  {
   "cell_type": "code",
   "execution_count": 3,
   "id": "898292b2-85ec-43ed-9810-2eb383a79b09",
   "metadata": {
    "tags": []
   },
   "outputs": [
    {
     "name": "stdout",
     "output_type": "stream",
     "text": [
      "Number of nodes: 77833\n",
      "Number of edges (TC): 2071600\n"
     ]
    }
   ],
   "source": [
    "G = nx.DiGraph()\n",
    "for edge in lattice['edges']:\n",
    "    if edge[0] != edge[1]:\n",
    "        G.add_edge(edge[0], edge[1])\n",
    "        \n",
    "print('Number of nodes: ' + str(G.number_of_nodes()))\n",
    "print('Number of edges (TC): ' + str(G.number_of_edges()))"
   ]
  },
  {
   "cell_type": "markdown",
   "id": "0202a30d-2058-4d31-8093-8e0a3ff6a972",
   "metadata": {},
   "source": [
    "## Compute the transitive reduction\n",
    "We want the edges to show only the direct neighbors of a node.\n",
    "(Can take a few seconds)"
   ]
  },
  {
   "cell_type": "code",
   "execution_count": 4,
   "id": "e19c8374-9135-492e-87fa-bc2b7553da84",
   "metadata": {},
   "outputs": [
    {
     "name": "stdout",
     "output_type": "stream",
     "text": [
      "Number of edges (TR): 197356\n"
     ]
    }
   ],
   "source": [
    "Gtr = nx.transitive_reduction(G)\n",
    "print('Number of edges (TR): ' + str(Gtr.number_of_edges()))"
   ]
  },
  {
   "cell_type": "markdown",
   "id": "1d4b54fb-b326-4e31-a7a3-c4743326cb8d",
   "metadata": {},
   "source": [
    "## Finding the top concept\n",
    "Retrieve the node that has no parent. Only one node should verifies that.  \n",
    "We need this top-concept to start the exploration from the most general node."
   ]
  },
  {
   "cell_type": "code",
   "execution_count": 5,
   "id": "080157bf-f5fd-4f20-a033-6fc2cc91d505",
   "metadata": {},
   "outputs": [
    {
     "name": "stdout",
     "output_type": "stream",
     "text": [
      "ID of the top-concept: 17167\n"
     ]
    }
   ],
   "source": [
    "top_concepts = []\n",
    "for id_node in Gtr.nodes:\n",
    "    if len(list(Gtr.successors(id_node))) == 0:\n",
    "        top_concepts.append(id_node)\n",
    "        \n",
    "assert(len(top_concepts) == 1)\n",
    "top_concept = top_concepts[0]\n",
    "print('ID of the top-concept: ' + str(top_concept))"
   ]
  },
  {
   "cell_type": "markdown",
   "id": "16a1d1c5-b692-4cfa-b0e4-856ee44dbba7",
   "metadata": {},
   "source": [
    "## Navigation interface"
   ]
  },
  {
   "cell_type": "code",
   "execution_count": 6,
   "id": "05e2b706-5bd7-434d-b9df-4b551857c819",
   "metadata": {},
   "outputs": [
    {
     "data": {
      "application/vnd.jupyter.widget-view+json": {
       "model_id": "006f7c34559c46c5b052d08607378ba4",
       "version_major": 2,
       "version_minor": 0
      },
      "text/plain": [
       "Text(value=' - 25162', placeholder='')"
      ]
     },
     "metadata": {},
     "output_type": "display_data"
    },
    {
     "data": {
      "application/vnd.jupyter.widget-view+json": {
       "model_id": "75fc1031c23842a8b9c9afec6ba264ff",
       "version_major": 2,
       "version_minor": 0
      },
      "text/plain": [
       "Tab(children=(GridBox(children=(Button(description='<EXPR>\\n - 20445', layout=Layout(width='98%'), style=Butto…"
      ]
     },
     "metadata": {},
     "output_type": "display_data"
    }
   ],
   "source": [
    "current_concept = top_concept\n",
    "\n",
    "def on_button_clicked(b):\n",
    "    global current_concept\n",
    "    current_concept = int(b.tooltip)\n",
    "    global box_concept\n",
    "    box_concept.value = str(lattice['concepts'][current_concept-1]['pattern']) + ' - ' + str(len(lattice['concepts'][current_concept-1]['conforming_fragments']))\n",
    "\n",
    "def create_template_buttons(change=None):\n",
    "    sub_concepts = list(Gtr.predecessors(current_concept))\n",
    "    sup_concepts = list(Gtr.successors(current_concept))\n",
    "    \n",
    "    # buttons for sub-concepts\n",
    "    buttons_sub = [widgets.Button(\n",
    "                description=lattice['concepts'][c-1]['pattern'] + ' - ' + str(len(lattice['concepts'][c-1]['conforming_fragments'])),\n",
    "                disabled=False,\n",
    "                button_style='', \n",
    "                tooltip=str(c),\n",
    "                layout=widgets.Layout(width='98%')\n",
    "                ) for c in sub_concepts]\n",
    "    # sorted by number of conforming fragments\n",
    "    buttons_sub = sorted(buttons_sub, key=lambda x:len(lattice['concepts'][int(x.tooltip)-1]['conforming_fragments']), reverse=True)\n",
    "    # clickable\n",
    "    for button in buttons_sub:\n",
    "        button.on_click(on_button_clicked) \n",
    "   \n",
    "    # buttons for sup-concept\n",
    "    buttons_sup = [widgets.Button(\n",
    "                description=str(lattice['concepts'][c-1]['pattern']) + ' - ' + str(len(lattice['concepts'][c-1]['conforming_fragments'])),\n",
    "                disabled=False,\n",
    "                button_style='', \n",
    "                tooltip=str(c),\n",
    "                layout=widgets.Layout(width='98%')\n",
    "                ) for c in sup_concepts]\n",
    "    # sorted by number of conforming fragments\n",
    "    buttons_sup = sorted(buttons_sup, key=lambda x:len(lattice['concepts'][int(x.tooltip)-1]['conforming_fragments']), reverse=True)\n",
    "    # clickable\n",
    "    for button in buttons_sup:\n",
    "        button.on_click(on_button_clicked) \n",
    "        \n",
    "    return buttons_sub, buttons_sup\n",
    "\n",
    "\n",
    "# current concept\n",
    "box_concept = widgets.Text(\n",
    "    value=str(lattice['concepts'][current_concept-1]['pattern']) + ' - ' + str(len(lattice['concepts'][current_concept-1]['conforming_fragments'])),\n",
    "    placeholder='',\n",
    "    description='',\n",
    "    disabled=False\n",
    ")\n",
    "\n",
    "# tabs\n",
    "tabs = widgets.Tab()\n",
    "tabs.set_title(0,'Specialization')\n",
    "tabs.set_title(1,'Generalization')\n",
    "buttons_sub, buttons_sup = create_template_buttons()\n",
    "box_buttons_sub = widgets.GridBox(buttons_sub, layout=widgets.Layout(grid_template_columns=\"repeat(3, 33%)\"))\n",
    "box_buttons_sup = widgets.GridBox(buttons_sup, layout=widgets.Layout(grid_template_columns=\"repeat(3, 33%)\"))\n",
    "tabs.children = [box_buttons_sub, box_buttons_sup]\n",
    "     \n",
    "    \n",
    "# switching current concept\n",
    "def cc_change(change):\n",
    "    buttons_sub, buttons_sup = create_template_buttons()\n",
    "    box_buttons_sub.children = buttons_sub\n",
    "    box_buttons_sup.children = buttons_sup\n",
    "\n",
    "    \n",
    "box_concept.observe(cc_change, names='value')    \n",
    "display(box_concept)\n",
    "display(tabs)"
   ]
  }
 ],
 "metadata": {
  "kernelspec": {
   "display_name": "Python 3 (ipykernel)",
   "language": "python",
   "name": "python3"
  },
  "language_info": {
   "codemirror_mode": {
    "name": "ipython",
    "version": 3
   },
   "file_extension": ".py",
   "mimetype": "text/x-python",
   "name": "python",
   "nbconvert_exporter": "python",
   "pygments_lexer": "ipython3",
   "version": "3.9.7"
  }
 },
 "nbformat": 4,
 "nbformat_minor": 5
}
